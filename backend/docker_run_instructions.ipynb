{
 "cells": [
  {
   "cell_type": "markdown",
   "id": "20069126",
   "metadata": {},
   "source": [
    "### Build and run to test docker file locally\n",
    "+ first build docker by\n",
    "`docker build -t fastapi-app .`\n",
    "+ to run the backend docker, using the following docker command:\n",
    "`docker run -d --env-file .env -p 8000:8000 --name testfastapi  fastapi-app`"
   ]
  }
 ],
 "metadata": {
  "language_info": {
   "name": "python"
  }
 },
 "nbformat": 4,
 "nbformat_minor": 5
}
