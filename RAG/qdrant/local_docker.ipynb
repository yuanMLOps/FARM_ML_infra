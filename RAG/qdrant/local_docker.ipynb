{
 "cells": [
  {
   "cell_type": "markdown",
   "id": "547e781f",
   "metadata": {},
   "source": [
    "### run local docker of qdrant for local development and test\n",
    "```shell\n",
    "docker pull qdrant/qdrant\n",
    "docker run -p 6333:6333 -p 6334:6334 \\  \n",
    "    -v $(pwd)/qdrant_storage:/qdrant/storage:z \\ \n",
    "    qdrant/qdrant\n",
    "```    "
   ]
  }
 ],
 "metadata": {
  "language_info": {
   "name": "python"
  }
 },
 "nbformat": 4,
 "nbformat_minor": 5
}
