{
 "cells": [
  {
   "cell_type": "code",
   "execution_count": null,
   "id": "5814fe3f",
   "metadata": {
    "vscode": {
     "languageId": "plaintext"
    }
   },
   "outputs": [],
   "source": []
  },
  {
   "cell_type": "markdown",
   "id": "f5389252",
   "metadata": {},
   "source": [
    "### deploy backend\n",
    "+ generate token secret\n",
    "  + encode values by (using -n to remove the generated line breaks) `echo -n \"value\" | base64`\n",
    "  + copy the generated value to the corresponding secret.yaml file\n",
    "+ generate configmap\n",
    "`kubectl create configmap env-config -n farm --from-env-file=env_config.env`\n",
    "\n",
    "+ test the Kind cluster svc from local computer\n",
    "`kubectl port-forward svc/fastapi-app 8000:8000 -n farm`\n",
    "\n",
    "### deploy reat fronend\n",
    "+ pack react.js code to build production bundle\n",
    "`npm run build`. This will generate code in dist\\ folder\n",
    "+ test the production bundle (make sure fastAPI is running locally on prot 8000) by\n",
    "`npx http-server dist`\n",
    "+ if everything works fine, build the docker\n",
    "  + in .dockerignore file, inlcude\n",
    "    + node_modules\n",
    "    + dist\n",
    "    + .env\n",
    "  + include envrionment variable defined by `{$import.meta.env.}` in ARG of Dockerfile \n",
    "    + declare ARG VITE_API_URL that corresponds to`{$import.meta.env.VITE_API_URL}`\n",
    "    + use `docker build --build-arg VITE_API_URL=http://127.0.0.1:8000 -t react-app:local .`\n",
    "    + test locally by `docker run --rm -d -p 9001:80 react-app:local`\n",
    "    + for K8s docker using `docker build --build-arg VITE_API_URL=http://fastapi-app:8000 -t react-app-demo .`\n",
    "    + push to docker hub\n",
    "    `docker tag react-app-demo huangyuan2000/react-app-demo:v1.0`\n",
    "    `docker push huangyuan2000/react-app-demo:v1.0`\n",
    "\n",
    "\n"
   ]
  }
 ],
 "metadata": {
  "language_info": {
   "name": "python"
  }
 },
 "nbformat": 4,
 "nbformat_minor": 5
}
