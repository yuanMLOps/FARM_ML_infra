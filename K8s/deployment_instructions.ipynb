{
 "cells": [
  {
   "cell_type": "code",
   "execution_count": null,
   "id": "5814fe3f",
   "metadata": {
    "vscode": {
     "languageId": "plaintext"
    }
   },
   "outputs": [],
   "source": []
  },
  {
   "cell_type": "markdown",
   "id": "f5389252",
   "metadata": {},
   "source": [
    "### deploy backend\n",
    "+ generate token secret\n",
    "  + encode values by (using -n to remove the generated line breaks) `echo -n \"value\" | base64`\n",
    "  + copy the generated value to the corresponding secret.yaml file\n",
    "+ generate configmap\n",
    "`kubectl create configmap env-config -n farm --from-env-file=env_config.env`\n",
    "\n",
    "+ test the Kind cluster svc from local computer. This forward the request from 127.0.0.1/:port to the service\n",
    "`kubectl port-forward svc/fastapi-app 8000:8000 -n farm`\n",
    "+ if your deployment server doesn't have a broswer, use another pod and curl\n",
    "  + `kubectl run curl-client --rm -it --image=curlimages/curl -n farm -- /bin/sh` \n",
    "  + run `curl http://fastapi-app:8000` or `curl http://fastapi-app.farm.svc.cluster.local:8000`        \n",
    "\n",
    "### deploy react fronend\n",
    "+ pack react.js code to build production bundle\n",
    "`npm run build`. This will generate code in dist\\ folder\n",
    "+ test the production bundle (make sure fastAPI is running locally on prot 8000) by\n",
    "`npx http-server dist`\n",
    "+ if everything works fine, build the docker\n",
    "  + in .dockerignore file, inlcude\n",
    "    + node_modules\n",
    "    + dist\n",
    "    + .env\n",
    "  + to use K8s ingress with the Prefix path of web, add `base: '/webfront/',` in vite.config.js file. \n",
    "    + this will add the prefix 'webfront' to all the .js, .css files that embedded in index.html \n",
    "    + in Dockerfile, include `COPY --from=build /app/dist /usr/share/nginx/html/webfront`                 \n",
    "  + include envrionment variable defined by `{$import.meta.env.}` in ARG of Dockerfile \n",
    "    + declare ARG VITE_API_URL that corresponds to`{$import.meta.env.VITE_API_URL}`\n",
    "    + use `docker build --build-arg VITE_API_URL=http://127.0.0.1:8000 -t react-app:local .`\n",
    "    + test locally by `docker run --rm -d -p 9001:80 react-app:local`\n",
    "    + for K8s docker using `docker build --build-arg VITE_API_URL=http://app.local/fastapi -t react-app-demo .`\n",
    "    + push to docker hub\n",
    "    `docker tag react-app-demo huangyuan2000/react-app-demo:v1.0`\n",
    "    `docker push huangyuan2000/react-app-demo:v1.0`\n",
    "\n",
    "### install ingress\n",
    "+ install ingress-nginx controller\n",
    "  + ` helm repo add ingress-nginx https://kubernetes.github.io/ingress-nginx`                                     \n",
    "  + `helm repo update`                                             \n",
    "  + `helm install nginx-ingress ingress-nginx/ingress-nginx  --namespace ingress-nginx --create-namespace`\n",
    "+ check the installation\n",
    "  + `kubectl get ns` to find out ingress-nginx namespace\n",
    "  + `kubectl get all -n ingress-nginx` to list the installed deployment and replicaset of controller \n",
    "+ install ingress resource for fastapi\n",
    "  + make sure you have your cluster ip (or 127.0.0.1 if using your local machine for K8s cluster) with domain name app.local is in your /etc/hosts file (C:/Windows/System32/drivers/etc/hosts on windows)\n",
    "  + deploy farm_ingress.yaml file\n",
    "\n",
    "\n",
    "\n"
   ]
  },
  {
   "cell_type": "markdown",
   "id": "3aea1d0d",
   "metadata": {},
   "source": []
  }
 ],
 "metadata": {
  "language_info": {
   "name": "python"
  }
 },
 "nbformat": 4,
 "nbformat_minor": 5
}
