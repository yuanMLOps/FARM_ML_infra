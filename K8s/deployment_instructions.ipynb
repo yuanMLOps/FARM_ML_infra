{
 "cells": [
  {
   "cell_type": "markdown",
   "id": "f5389252",
   "metadata": {},
   "source": [
    "### generate configmap\n",
    "`kubectl create configmap env-config -n farm --from-env-file=env_config.env`\n",
    "\n",
    "### test the Kind cluster svc from local computer\n",
    "`kubectl port-forward svc/fastapi-app 8000:8000 -n farm`\n",
    "\n"
   ]
  }
 ],
 "metadata": {
  "language_info": {
   "name": "python"
  }
 },
 "nbformat": 4,
 "nbformat_minor": 5
}
