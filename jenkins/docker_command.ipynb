{
 "cells": [
  {
   "cell_type": "markdown",
   "id": "4b2b9e28",
   "metadata": {},
   "source": [
    "`docker build -t fastapi-app .`\n",
    "`docker run -d --env-file .env -p 8000:8000 --name testFastAPI fastAPI` \n",
    "`docker login`\n",
    "`docker tag fastapi-app huangyuan2000/fastapi-app:v1.0`\n",
    "`docker push huangyuan2000/fastapi-app:v1.0`\n"
   ]
  }
 ],
 "metadata": {
  "kernelspec": {
   "display_name": "farm",
   "language": "python",
   "name": "python3"
  },
  "language_info": {
   "name": "python",
   "version": "3.12.0"
  }
 },
 "nbformat": 4,
 "nbformat_minor": 5
}
